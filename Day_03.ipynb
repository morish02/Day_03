{
 "cells": [
  {
   "cell_type": "code",
   "execution_count": 5,
   "metadata": {},
   "outputs": [
    {
     "name": "stdout",
     "output_type": "stream",
     "text": [
      "Rishant Rajendra Mohekar\n"
     ]
    }
   ],
   "source": [
    "#using of f string\n",
    "\n",
    "first_name  = 'rishant'\n",
    "middle_name = 'rajendra'\n",
    "last_name = 'mohekar'\n",
    "\n",
    "\n",
    "full_name = f'{first_name} {middle_name} {last_name}'\n",
    "\n",
    "print(full_name.title())"
   ]
  },
  {
   "cell_type": "code",
   "execution_count": 13,
   "metadata": {},
   "outputs": [
    {
     "name": "stdout",
     "output_type": "stream",
     "text": [
      "windows\n",
      "linux\n",
      "mac\n"
     ]
    }
   ],
   "source": [
    "#\\n----> new line\n",
    "\n",
    "print(\"windows\" '\\nlinux' '\\nmac')"
   ]
  },
  {
   "cell_type": "code",
   "execution_count": 23,
   "metadata": {},
   "outputs": [
    {
     "name": "stdout",
     "output_type": "stream",
     "text": [
      "operating_systems:\n",
      "\t\twindows\n",
      "\t\tlinux\n",
      "\t\tmac\n"
     ]
    }
   ],
   "source": [
    "#\\t----> tab delimeter\n",
    "\n",
    "print('operating_systems:' \"\\n\\t\\twindows\" '\\n\\t\\tlinux' \"\\n\\t\\tmac\")"
   ]
  },
  {
   "cell_type": "code",
   "execution_count": null,
   "metadata": {},
   "outputs": [],
   "source": []
  }
 ],
 "metadata": {
  "kernelspec": {
   "display_name": "Python 3",
   "language": "python",
   "name": "python3"
  },
  "language_info": {
   "codemirror_mode": {
    "name": "ipython",
    "version": 3
   },
   "file_extension": ".py",
   "mimetype": "text/x-python",
   "name": "python",
   "nbconvert_exporter": "python",
   "pygments_lexer": "ipython3",
   "version": "3.7.6"
  }
 },
 "nbformat": 4,
 "nbformat_minor": 4
}
